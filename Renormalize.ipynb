{
 "cells": [
  {
   "cell_type": "code",
   "execution_count": 1,
   "id": "2e8634d9",
   "metadata": {},
   "outputs": [],
   "source": [
    "from numpy import *\n",
    "import json\n",
    "import re\n",
    "from itertools import combinations\n",
    "import networkx as nx\n",
    "import networkx.algorithms.community as nx_comm\n",
    "import pickle\n",
    "import matplotlib.pyplot as plt\n",
    "import sys"
   ]
  },
  {
   "cell_type": "code",
   "execution_count": 22,
   "id": "938549cf",
   "metadata": {},
   "outputs": [],
   "source": [
    "G = nx.read_gml(\"bob2TermNet.gml\")\n"
   ]
  },
  {
   "cell_type": "code",
   "execution_count": 23,
   "id": "aa2c6a63",
   "metadata": {},
   "outputs": [],
   "source": [
    "def getNeighbors(A,x,steps,nodelist):\n",
    "    neighbors = [];\n",
    "    accumulation = sign(x);\n",
    "    for i in range(steps):\n",
    "        x = sign(dot(A,x));\n",
    "        accumulation = sign(accumulation+x);\n",
    "    for node in range(len(accumulation)):\n",
    "        if accumulation[node] >0:\n",
    "            neighbors.append(nodelist[node])\n",
    "    return neighbors;"
   ]
  },
  {
   "cell_type": "code",
   "execution_count": 24,
   "id": "a6bdb22e",
   "metadata": {},
   "outputs": [],
   "source": [
    "def GetIndex(node):\n",
    "    nodelist = list(G.nodes());\n",
    "    for i in range(len(nodelist)):\n",
    "        if nodelist[i] == node:\n",
    "            return i;\n",
    "    return (\"node not found\")"
   ]
  },
  {
   "cell_type": "code",
   "execution_count": 48,
   "id": "27327c7a",
   "metadata": {},
   "outputs": [
    {
     "name": "stdout",
     "output_type": "stream",
     "text": [
      "[6, 7]\n"
     ]
    }
   ],
   "source": [
    "x = zeros((G.number_of_nodes(),1))\n",
    "x[7] = 1;\n",
    "print(getNeighbors(G,x,1))"
   ]
  },
  {
   "cell_type": "code",
   "execution_count": 5,
   "id": "09c4801d",
   "metadata": {},
   "outputs": [],
   "source": [
    "def Renormalize(G,length):\n",
    "    coveredNodes = 0;\n",
    "    burnedNodes = [];\n",
    "    boxes = 0;\n",
    "    newGraph = [];\n",
    "    nodelist = list(G.nodes());\n",
    "    n = 0;\n",
    "    A = nx.adjacency_matrix(G).todense().T;\n",
    "    availableNodes = list(G.nodes());\n",
    "    while (len(burnedNodes)<G.number_of_nodes()):\n",
    "        x = zeros((G.number_of_nodes(),1));\n",
    "        randNode = availableNodes[random.randint(len(availableNodes))];\n",
    "        index = GetIndex(randNode);\n",
    "        x[index] = 1;\n",
    "        neighbors = getNeighbors(A,x,length,nodelist);\n",
    "        newGraph.append([]);\n",
    "        for node in neighbors:\n",
    "            if node not in burnedNodes:\n",
    "                burnedNodes.append(node);\n",
    "                availableNodes.remove(node);\n",
    "                newGraph[n].append(node)\n",
    "        boxes+=1;\n",
    "        n= n+1;\n",
    "    return newGraph,boxes;\n",
    "    \n",
    "    "
   ]
  },
  {
   "cell_type": "code",
   "execution_count": 32,
   "id": "fcc2fae5",
   "metadata": {},
   "outputs": [],
   "source": [
    "def RenormalizeWithReplacement(G,length,trylimit= 2000):\n",
    "    burnedNodes = [];\n",
    "    boxes = 0;\n",
    "    newGraph = []\n",
    "    nodelist = list(G.nodes());\n",
    "    nodelength = G.number_of_nodes();\n",
    "    tries = 0;\n",
    "    A = nx.adjacency_matrix(G).todense().T;\n",
    "    while (len(burnedNodes)<nodelength and tries<trylimit):\n",
    "        x = zeros((nodelength,1));\n",
    "        BoxNotEmpty = False;\n",
    "        randNode = random.randint(nodelength);\n",
    "        x[randNode] = 1;\n",
    "        neighbors = getNeighbors(A,x,length,nodelist);\n",
    "        box = [];\n",
    "        for node in neighbors:\n",
    "            if node not in burnedNodes:\n",
    "                burnedNodes.append(node);\n",
    "                box.append(node);\n",
    "                BoxNotEmpty = True;\n",
    "        if(BoxNotEmpty):\n",
    "            boxes+=1;\n",
    "            newGraph.append(box);\n",
    "        tries+=1;\n",
    "    return newGraph,boxes,tries;"
   ]
  },
  {
   "cell_type": "code",
   "execution_count": 45,
   "id": "0c78c2e2",
   "metadata": {},
   "outputs": [],
   "source": [
    "newGraph, boxes,tries = RenormalizeWithReplacement(G,1,2000);"
   ]
  },
  {
   "cell_type": "code",
   "execution_count": 46,
   "id": "eea2b175",
   "metadata": {},
   "outputs": [
    {
     "name": "stdout",
     "output_type": "stream",
     "text": [
      "64\n"
     ]
    }
   ],
   "source": [
    "print(boxes)"
   ]
  },
  {
   "cell_type": "code",
   "execution_count": 47,
   "id": "e794bfe7",
   "metadata": {},
   "outputs": [],
   "source": [
    "newGraph2, boxes2,tries2 = RenormalizeWithReplacement(G,2,2000);"
   ]
  },
  {
   "cell_type": "code",
   "execution_count": 48,
   "id": "ff8992e8",
   "metadata": {},
   "outputs": [
    {
     "name": "stdout",
     "output_type": "stream",
     "text": [
      "5\n"
     ]
    }
   ],
   "source": [
    "print(boxes2)"
   ]
  },
  {
   "cell_type": "code",
   "execution_count": 49,
   "id": "318c1c90",
   "metadata": {},
   "outputs": [],
   "source": [
    "newGraph3, boxes3,tries3 = RenormalizeWithReplacement(G,3,2000);"
   ]
  },
  {
   "cell_type": "code",
   "execution_count": 50,
   "id": "d5e3ca38",
   "metadata": {},
   "outputs": [
    {
     "name": "stdout",
     "output_type": "stream",
     "text": [
      "1\n"
     ]
    }
   ],
   "source": [
    "print(boxes3)"
   ]
  },
  {
   "cell_type": "code",
   "execution_count": null,
   "id": "ba4db8c7",
   "metadata": {},
   "outputs": [],
   "source": []
  }
 ],
 "metadata": {
  "kernelspec": {
   "display_name": "Python 3 (ipykernel)",
   "language": "python",
   "name": "python3"
  },
  "language_info": {
   "codemirror_mode": {
    "name": "ipython",
    "version": 3
   },
   "file_extension": ".py",
   "mimetype": "text/x-python",
   "name": "python",
   "nbconvert_exporter": "python",
   "pygments_lexer": "ipython3",
   "version": "3.9.7"
  }
 },
 "nbformat": 4,
 "nbformat_minor": 5
}
