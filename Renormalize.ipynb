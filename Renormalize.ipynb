{
 "cells": [
  {
   "cell_type": "code",
   "execution_count": 1,
   "id": "2e8634d9",
   "metadata": {},
   "outputs": [],
   "source": [
    "from numpy import *\n",
    "import json\n",
    "import re\n",
    "from itertools import combinations\n",
    "import networkx as nx\n",
    "import networkx.algorithms.community as nx_comm\n",
    "import pickle\n",
    "import matplotlib.pyplot as plt\n",
    "import sys"
   ]
  },
  {
   "cell_type": "code",
   "execution_count": 2,
   "id": "938549cf",
   "metadata": {},
   "outputs": [],
   "source": [
    "G = nx.read_gml(\"Bob2.gml\")\n",
    "Gnodelist = list(G.nodes());"
   ]
  },
  {
   "cell_type": "code",
   "execution_count": 12,
   "id": "9cf3d383",
   "metadata": {},
   "outputs": [
    {
     "ename": "SyntaxError",
     "evalue": "invalid syntax (Temp/ipykernel_21304/1040476594.py, line 1)",
     "output_type": "error",
     "traceback": [
      "\u001b[1;36m  File \u001b[1;32m\"C:\\Users\\85chr\\AppData\\Local\\Temp/ipykernel_21304/1040476594.py\"\u001b[1;36m, line \u001b[1;32m1\u001b[0m\n\u001b[1;33m    for node2\u001b[0m\n\u001b[1;37m             ^\u001b[0m\n\u001b[1;31mSyntaxError\u001b[0m\u001b[1;31m:\u001b[0m invalid syntax\n"
     ]
    }
   ],
   "source": []
  },
  {
   "cell_type": "code",
   "execution_count": 3,
   "id": "aa2c6a63",
   "metadata": {},
   "outputs": [],
   "source": [
    "def getNeighbors(G,x,steps):\n",
    "    neighbors = [];\n",
    "    nodelist = list(G.nodes())\n",
    "    A = nx.adjacency_matrix(G).todense().T;\n",
    "    accumulation = sign(x);\n",
    "    for i in range(steps):\n",
    "        x = sign(dot(A,x));\n",
    "        accumulation = sign(accumulation+x);\n",
    "    for node in range(len(accumulation)):\n",
    "        if accumulation[node] >0:\n",
    "            neighbors.append(nodelist[node])\n",
    "    return neighbors;"
   ]
  },
  {
   "cell_type": "code",
   "execution_count": 14,
   "id": "9c4a9f4b",
   "metadata": {},
   "outputs": [],
   "source": [
    "G = nx.DiGraph()\n",
    "G.add_nodes_from(range(9));\n",
    "G.add_edge(0,1)\n",
    "G.add_edge(0,3)\n",
    "G.add_edge(1,2)\n",
    "G.add_edge(1,4)\n",
    "G.add_edge(4,0)\n",
    "G.add_edge(4,5)\n",
    "G.add_edge(4,7)\n",
    "G.add_edge(7,6)\n",
    "G.add_edge(6,8)"
   ]
  },
  {
   "cell_type": "code",
   "execution_count": 4,
   "id": "a6bdb22e",
   "metadata": {},
   "outputs": [],
   "source": [
    "def GetIndex(node):\n",
    "    nodelist = list(G.nodes());\n",
    "    for i in range(len(nodelist)):\n",
    "        if nodelist[i] == node:\n",
    "            return i;\n",
    "    return (\"node not found\")"
   ]
  },
  {
   "cell_type": "code",
   "execution_count": 48,
   "id": "27327c7a",
   "metadata": {},
   "outputs": [
    {
     "name": "stdout",
     "output_type": "stream",
     "text": [
      "[6, 7]\n"
     ]
    }
   ],
   "source": [
    "x = zeros((G.number_of_nodes(),1))\n",
    "x[7] = 1;\n",
    "print(getNeighbors(G,x,1))"
   ]
  },
  {
   "cell_type": "code",
   "execution_count": 5,
   "id": "09c4801d",
   "metadata": {},
   "outputs": [],
   "source": [
    "def Renormalize(G,length):\n",
    "    coveredNodes = 0;\n",
    "    burnedNodes = [];\n",
    "    boxes = 0;\n",
    "    newGraph = []\n",
    "    n = 0;\n",
    "    availableNodes = list(G.nodes());\n",
    "    while (len(burnedNodes)<G.number_of_nodes()):\n",
    "        x = zeros((G.number_of_nodes(),1));\n",
    "        randNode = availableNodes[random.randint(len(availableNodes))];\n",
    "        index = GetIndex(randNode);\n",
    "        x[index] = 1;\n",
    "        neighbors = getNeighbors(G,x,length);\n",
    "        newGraph.append([]);\n",
    "        for node in neighbors:\n",
    "            if node not in burnedNodes:\n",
    "                burnedNodes.append(node);\n",
    "                availableNodes.remove(node);\n",
    "                newGraph[n].append(node)\n",
    "        boxes+=1;\n",
    "        n= n+1;\n",
    "    return newGraph,boxes;\n",
    "    \n",
    "    "
   ]
  },
  {
   "cell_type": "code",
   "execution_count": 6,
   "id": "fcc2fae5",
   "metadata": {},
   "outputs": [],
   "source": [
    "def Renormalize2(G,length):\n",
    "    coveredNodes = 0;\n",
    "    burnedNodes = [];\n",
    "    boxes = 0;\n",
    "    newGraph = []\n",
    "    nodelength = G.number_of_nodes();\n",
    "    while (len(burnedNodes)<nodelength):\n",
    "        x = zeros((nodelength,1));\n",
    "        newbox = False;\n",
    "        randNode = random.randint(nodelength);\n",
    "        x[randNode] = 1;\n",
    "        neighbors = getNeighbors(G,x,length);\n",
    "        box = [];\n",
    "        for node in neighbors:\n",
    "            if node not in burnedNodes:\n",
    "                burnedNodes.append(node);\n",
    "                box.append(node);\n",
    "                newbox = True;\n",
    "        if(newbox):\n",
    "            boxes+=1;\n",
    "            newGraph.append(box);\n",
    "    return newGraph,boxes;"
   ]
  },
  {
   "cell_type": "code",
   "execution_count": 24,
   "id": "0c78c2e2",
   "metadata": {},
   "outputs": [],
   "source": [
    "newGraph, boxes = Renormalize2(G,2);"
   ]
  },
  {
   "cell_type": "code",
   "execution_count": 25,
   "id": "eea2b175",
   "metadata": {},
   "outputs": [
    {
     "name": "stdout",
     "output_type": "stream",
     "text": [
      "4\n"
     ]
    }
   ],
   "source": [
    "print(boxes)"
   ]
  },
  {
   "cell_type": "code",
   "execution_count": 13,
   "id": "043d3395",
   "metadata": {},
   "outputs": [
    {
     "name": "stdout",
     "output_type": "stream",
     "text": [
      "268\n",
      "126\n",
      "95\n",
      "99\n",
      "78\n",
      "124\n",
      "104\n",
      "79\n",
      "107\n",
      "81\n",
      "82\n",
      "86\n",
      "73\n",
      "81\n",
      "57\n",
      "67\n",
      "128\n",
      "65\n",
      "76\n",
      "143\n",
      "88\n",
      "67\n",
      "87\n",
      "92\n",
      "94\n",
      "66\n",
      "95\n",
      "48\n",
      "66\n",
      "36\n",
      "72\n",
      "61\n",
      "68\n",
      "21\n",
      "71\n",
      "37\n",
      "30\n",
      "33\n",
      "53\n",
      "40\n",
      "58\n",
      "73\n",
      "67\n",
      "151\n",
      "37\n",
      "56\n",
      "15\n",
      "85\n",
      "90\n",
      "33\n",
      "25\n",
      "38\n",
      "111\n",
      "67\n",
      "56\n",
      "63\n",
      "82\n",
      "30\n",
      "27\n",
      "40\n",
      "46\n",
      "42\n",
      "37\n",
      "15\n",
      "15\n",
      "39\n",
      "6\n",
      "29\n",
      "41\n",
      "36\n",
      "55\n",
      "15\n",
      "11\n",
      "28\n",
      "19\n",
      "16\n",
      "7\n",
      "11\n",
      "3\n",
      "11\n"
     ]
    }
   ],
   "source": []
  },
  {
   "cell_type": "code",
   "execution_count": null,
   "id": "e794bfe7",
   "metadata": {},
   "outputs": [],
   "source": []
  }
 ],
 "metadata": {
  "kernelspec": {
   "display_name": "Python 3 (ipykernel)",
   "language": "python",
   "name": "python3"
  },
  "language_info": {
   "codemirror_mode": {
    "name": "ipython",
    "version": 3
   },
   "file_extension": ".py",
   "mimetype": "text/x-python",
   "name": "python",
   "nbconvert_exporter": "python",
   "pygments_lexer": "ipython3",
   "version": "3.9.7"
  }
 },
 "nbformat": 4,
 "nbformat_minor": 5
}
